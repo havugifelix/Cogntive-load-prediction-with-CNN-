{
 "cells": [
  {
   "cell_type": "code",
   "execution_count": 8,
   "metadata": {},
   "outputs": [],
   "source": [
    "import tensorflow\n",
    "from tensorflow.keras.preprocessing.image import ImageDataGenerator\n",
    "from tensorflow.keras.models import Sequential\n",
    "from tensorflow.keras.regularizers import l1,l1_l2,l2\n",
    "from sklearn.model_selection import train_test_split\n",
    "from sklearn.utils import class_weight\n",
    "import os\n",
    "from collections import Counter\n",
    "import numpy as np\n",
    "from tensorflow.keras.optimizers import RMSprop, SGD, Adam\n",
    "from tensorflow.keras.callbacks import ModelCheckpoint, EarlyStopping, ReduceLROnPlateau\n",
    "from sklearn.utils.multiclass import unique_labels\n",
    "\n",
    "# from vis.utils import utils\n",
    "from tensorflow.keras.activations import elu,relu \n",
    "\n",
    "from tensorflow.keras.utils import to_categorical\n",
    "from sklearn.metrics import classification_report,accuracy_score,confusion_matrix\n",
    "from tensorflow.keras.layers import Dense, Dropout, Activation, Conv2D, MaxPooling1D,GlobalAveragePooling2D\n",
    "from tensorflow.keras.layers import Embedding, Flatten, Input, add,concatenate\n",
    "\n",
    "import numpy as np\n",
    "import matplotlib.pyplot as plt\n",
    "from tensorflow.keras.preprocessing.sequence import pad_sequences\n",
    "from tensorflow.keras import Model\n",
    "from tensorflow.keras.utils import plot_model\n",
    "from neural_net import build_model,build_and_train\n",
    "import hyperopt_optimize\n",
    "import cv2\n"
   ]
  },
  {
   "cell_type": "code",
   "execution_count": 9,
   "metadata": {},
   "outputs": [],
   "source": [
    "# img=cv2.imread(\"/home/kashraf/Journal_work_Fall2021/Audio_topomaps_June21/beta/cl4/sub_1_beta_3.png\")\n",
    "# img.shape"
   ]
  },
  {
   "cell_type": "code",
   "execution_count": 10,
   "metadata": {},
   "outputs": [
    {
     "name": "stdout",
     "output_type": "stream",
     "text": [
      "Hyperspace:\n",
      "{'activation': 'relu', 'batch_size': 112.0, 'conv_dropout_drop_proba': 0.23500786106647073, 'conv_hiddn_units_mult': 1.2316507928963547, 'conv_kernel_size': 3.0, 'conv_pool_res_start_idx': 1.0, 'fc_dropout_drop_proba': 0.28105705270734643, 'fc_units_1_mult': 1.5121176390097313, 'first_conv': 4, 'l2_weight_reg_mult': 1.1411104782264416, 'lr_rate_mult': 0.670345540313049, 'nb_conv_pool_layers': 3, 'one_more_fc': 0.7127527455372467, 'optimizer': 'SGD', 'pooling_type': 'avg', 'res_conv_kernel_size': 2.0, 'residual': 4.0, 'use_BN': False}\n",
      "0\n",
      "49\n",
      "(None, 224, 224, 16)\n",
      "(None, 224, 224, 49)\n",
      "(None, 112, 112, 49)\n",
      "1\n",
      "98\n",
      "(None, 112, 112, 49)\n",
      "(None, 112, 112, 98)\n",
      "(None, 112, 112, 98)\n",
      "(None, 56, 56, 98)\n",
      "2\n",
      "196\n",
      "(None, 56, 56, 98)\n",
      "(None, 56, 56, 196)\n",
      "(None, 56, 56, 196)\n",
      "(None, 28, 28, 196)\n",
      "(None, 153664)\n",
      "(None, 1512)\n",
      "(None, 534)\n"
     ]
    }
   ],
   "source": [
    "hyperspace= {\n",
    "        \"activation\": \"relu\",\n",
    "        \"batch_size\": 112.0,\n",
    "        \"conv_dropout_drop_proba\": 0.23500786106647073,\n",
    "        \"conv_hiddn_units_mult\": 1.2316507928963547,\n",
    "        \"conv_kernel_size\": 3.0,\n",
    "        \"conv_pool_res_start_idx\": 1.0,\n",
    "        \"fc_dropout_drop_proba\": 0.28105705270734643,\n",
    "        \"fc_units_1_mult\": 1.5121176390097313,\n",
    "        \"first_conv\": 4,\n",
    "        \"l2_weight_reg_mult\": 1.1411104782264416,\n",
    "        \"lr_rate_mult\": 0.670345540313049,\n",
    "        \"nb_conv_pool_layers\": 3,\n",
    "        \"one_more_fc\": 0.7127527455372467,\n",
    "        \"optimizer\": \"SGD\",\n",
    "        \"pooling_type\": \"avg\",\n",
    "        \"res_conv_kernel_size\": 2.0,\n",
    "        \"residual\": 4.0,\n",
    "        \"use_BN\": False\n",
    "    }\n",
    "model=build_model(hyperspace)\n"
   ]
  },
  {
   "cell_type": "code",
   "execution_count": 11,
   "metadata": {},
   "outputs": [
    {
     "name": "stdout",
     "output_type": "stream",
     "text": [
      "Model: \"model_2\"\n",
      "__________________________________________________________________________________________________\n",
      "Layer (type)                    Output Shape         Param #     Connected to                     \n",
      "==================================================================================================\n",
      "input_3 (InputLayer)            [(None, 224, 224, 3) 0                                            \n",
      "__________________________________________________________________________________________________\n",
      "lambda_2 (Lambda)               (None, 224, 224, 3)  0           input_3[0][0]                    \n",
      "__________________________________________________________________________________________________\n",
      "conv2d_40 (Conv2D)              (None, 224, 224, 16) 784         lambda_2[0][0]                   \n",
      "__________________________________________________________________________________________________\n",
      "conv2d_41 (Conv2D)              (None, 224, 224, 49) 7105        conv2d_40[0][0]                  \n",
      "__________________________________________________________________________________________________\n",
      "average_pooling2d_6 (AveragePoo (None, 112, 112, 49) 0           conv2d_41[0][0]                  \n",
      "__________________________________________________________________________________________________\n",
      "dropout_26 (Dropout)            (None, 112, 112, 49) 0           average_pooling2d_6[0][0]        \n",
      "__________________________________________________________________________________________________\n",
      "conv2d_42 (Conv2D)              (None, 112, 112, 98) 43316       dropout_26[0][0]                 \n",
      "__________________________________________________________________________________________________\n",
      "dropout_27 (Dropout)            (None, 112, 112, 98) 0           conv2d_42[0][0]                  \n",
      "__________________________________________________________________________________________________\n",
      "conv2d_43 (Conv2D)              (None, 112, 112, 98) 9702        conv2d_42[0][0]                  \n",
      "__________________________________________________________________________________________________\n",
      "conv2d_44 (Conv2D)              (None, 112, 112, 98) 38514       dropout_27[0][0]                 \n",
      "__________________________________________________________________________________________________\n",
      "add_16 (Add)                    (None, 112, 112, 98) 0           conv2d_43[0][0]                  \n",
      "                                                                 conv2d_44[0][0]                  \n",
      "__________________________________________________________________________________________________\n",
      "dropout_28 (Dropout)            (None, 112, 112, 98) 0           add_16[0][0]                     \n",
      "__________________________________________________________________________________________________\n",
      "conv2d_45 (Conv2D)              (None, 112, 112, 98) 9702        add_16[0][0]                     \n",
      "__________________________________________________________________________________________________\n",
      "conv2d_46 (Conv2D)              (None, 112, 112, 98) 38514       dropout_28[0][0]                 \n",
      "__________________________________________________________________________________________________\n",
      "add_17 (Add)                    (None, 112, 112, 98) 0           conv2d_45[0][0]                  \n",
      "                                                                 conv2d_46[0][0]                  \n",
      "__________________________________________________________________________________________________\n",
      "dropout_29 (Dropout)            (None, 112, 112, 98) 0           add_17[0][0]                     \n",
      "__________________________________________________________________________________________________\n",
      "conv2d_47 (Conv2D)              (None, 112, 112, 98) 9702        add_17[0][0]                     \n",
      "__________________________________________________________________________________________________\n",
      "conv2d_48 (Conv2D)              (None, 112, 112, 98) 38514       dropout_29[0][0]                 \n",
      "__________________________________________________________________________________________________\n",
      "add_18 (Add)                    (None, 112, 112, 98) 0           conv2d_47[0][0]                  \n",
      "                                                                 conv2d_48[0][0]                  \n",
      "__________________________________________________________________________________________________\n",
      "dropout_30 (Dropout)            (None, 112, 112, 98) 0           add_18[0][0]                     \n",
      "__________________________________________________________________________________________________\n",
      "conv2d_49 (Conv2D)              (None, 112, 112, 98) 9702        add_18[0][0]                     \n",
      "__________________________________________________________________________________________________\n",
      "conv2d_50 (Conv2D)              (None, 112, 112, 98) 38514       dropout_30[0][0]                 \n",
      "__________________________________________________________________________________________________\n",
      "add_19 (Add)                    (None, 112, 112, 98) 0           conv2d_49[0][0]                  \n",
      "                                                                 conv2d_50[0][0]                  \n",
      "__________________________________________________________________________________________________\n",
      "batch_normalization_8 (BatchNor (None, 112, 112, 98) 392         add_19[0][0]                     \n",
      "__________________________________________________________________________________________________\n",
      "batch_normalization_9 (BatchNor (None, 112, 112, 98) 392         batch_normalization_8[0][0]      \n",
      "__________________________________________________________________________________________________\n",
      "average_pooling2d_7 (AveragePoo (None, 56, 56, 98)   0           batch_normalization_9[0][0]      \n",
      "__________________________________________________________________________________________________\n",
      "dropout_31 (Dropout)            (None, 56, 56, 98)   0           average_pooling2d_7[0][0]        \n",
      "__________________________________________________________________________________________________\n",
      "conv2d_51 (Conv2D)              (None, 56, 56, 196)  173068      dropout_31[0][0]                 \n",
      "__________________________________________________________________________________________________\n",
      "dropout_32 (Dropout)            (None, 56, 56, 196)  0           conv2d_51[0][0]                  \n",
      "__________________________________________________________________________________________________\n",
      "conv2d_52 (Conv2D)              (None, 56, 56, 196)  38612       conv2d_51[0][0]                  \n",
      "__________________________________________________________________________________________________\n",
      "conv2d_53 (Conv2D)              (None, 56, 56, 196)  153860      dropout_32[0][0]                 \n",
      "__________________________________________________________________________________________________\n",
      "add_20 (Add)                    (None, 56, 56, 196)  0           conv2d_52[0][0]                  \n",
      "                                                                 conv2d_53[0][0]                  \n",
      "__________________________________________________________________________________________________\n",
      "dropout_33 (Dropout)            (None, 56, 56, 196)  0           add_20[0][0]                     \n",
      "__________________________________________________________________________________________________\n",
      "conv2d_54 (Conv2D)              (None, 56, 56, 196)  38612       add_20[0][0]                     \n",
      "__________________________________________________________________________________________________\n",
      "conv2d_55 (Conv2D)              (None, 56, 56, 196)  153860      dropout_33[0][0]                 \n",
      "__________________________________________________________________________________________________\n",
      "add_21 (Add)                    (None, 56, 56, 196)  0           conv2d_54[0][0]                  \n",
      "                                                                 conv2d_55[0][0]                  \n",
      "__________________________________________________________________________________________________\n",
      "dropout_34 (Dropout)            (None, 56, 56, 196)  0           add_21[0][0]                     \n",
      "__________________________________________________________________________________________________\n",
      "conv2d_56 (Conv2D)              (None, 56, 56, 196)  38612       add_21[0][0]                     \n",
      "__________________________________________________________________________________________________\n",
      "conv2d_57 (Conv2D)              (None, 56, 56, 196)  153860      dropout_34[0][0]                 \n",
      "__________________________________________________________________________________________________\n",
      "add_22 (Add)                    (None, 56, 56, 196)  0           conv2d_56[0][0]                  \n",
      "                                                                 conv2d_57[0][0]                  \n",
      "__________________________________________________________________________________________________\n",
      "dropout_35 (Dropout)            (None, 56, 56, 196)  0           add_22[0][0]                     \n",
      "__________________________________________________________________________________________________\n",
      "conv2d_58 (Conv2D)              (None, 56, 56, 196)  38612       add_22[0][0]                     \n",
      "__________________________________________________________________________________________________\n",
      "conv2d_59 (Conv2D)              (None, 56, 56, 196)  153860      dropout_35[0][0]                 \n",
      "__________________________________________________________________________________________________\n",
      "add_23 (Add)                    (None, 56, 56, 196)  0           conv2d_58[0][0]                  \n",
      "                                                                 conv2d_59[0][0]                  \n",
      "__________________________________________________________________________________________________\n",
      "batch_normalization_10 (BatchNo (None, 56, 56, 196)  784         add_23[0][0]                     \n",
      "__________________________________________________________________________________________________\n",
      "batch_normalization_11 (BatchNo (None, 56, 56, 196)  784         batch_normalization_10[0][0]     \n",
      "__________________________________________________________________________________________________\n",
      "average_pooling2d_8 (AveragePoo (None, 28, 28, 196)  0           batch_normalization_11[0][0]     \n",
      "__________________________________________________________________________________________________\n",
      "dropout_36 (Dropout)            (None, 28, 28, 196)  0           average_pooling2d_8[0][0]        \n",
      "__________________________________________________________________________________________________\n",
      "flatten_2 (Flatten)             (None, 153664)       0           dropout_36[0][0]                 \n",
      "__________________________________________________________________________________________________\n",
      "dense_6 (Dense)                 (None, 1512)         232341480   flatten_2[0][0]                  \n",
      "__________________________________________________________________________________________________\n",
      "dropout_37 (Dropout)            (None, 1512)         0           dense_6[0][0]                    \n",
      "__________________________________________________________________________________________________\n",
      "dense_7 (Dense)                 (None, 534)          807942      dropout_37[0][0]                 \n",
      "__________________________________________________________________________________________________\n",
      "dropout_38 (Dropout)            (None, 534)          0           dense_7[0][0]                    \n",
      "__________________________________________________________________________________________________\n",
      "dense_8 (Dense)                 (None, 4)            2140        dropout_38[0][0]                 \n",
      "==================================================================================================\n",
      "Total params: 234,340,939\n",
      "Trainable params: 234,339,763\n",
      "Non-trainable params: 1,176\n",
      "__________________________________________________________________________________________________\n"
     ]
    }
   ],
   "source": [
    "model.summary()"
   ]
  },
  {
   "cell_type": "code",
   "execution_count": 12,
   "metadata": {},
   "outputs": [],
   "source": [
    "# validation_gen=ImageDataGenerator()\n",
    "# validation_path=\"/home/kashraf/Journal_work_Fall2021/GAN_topomap/topos_GAN+REAL/stack/train_test/test/\"\n",
    "# img_rows, img_cols = 224,224\n",
    "# validation_generator = validation_gen.flow_from_directory(\n",
    "#     validation_path,\n",
    "#     color_mode=\"rgb\",\n",
    "\n",
    "#     target_size=(img_rows, img_cols),\n",
    "#     batch_size=32,\n",
    "#     class_mode='categorical',\n",
    "#     shuffle=False)\n"
   ]
  },
  {
   "cell_type": "markdown",
   "metadata": {},
   "source": [
    "### Training model for beta"
   ]
  },
  {
   "cell_type": "code",
   "execution_count": null,
   "metadata": {},
   "outputs": [],
   "source": [
    "model, model_name, result, log_path=build_and_train(hype_space=hyperspace,save_best_weights=True)"
   ]
  },
  {
   "cell_type": "code",
   "execution_count": 16,
   "metadata": {},
   "outputs": [
    {
     "name": "stdout",
     "output_type": "stream",
     "text": [
      "Found 13200 images belonging to 4 classes.\n",
      "207/207 [==============================] - 30s 143ms/step - loss: 4.1411 - accuracy: 0.8917\n"
     ]
    },
    {
     "data": {
      "text/plain": [
       "[4.141085624694824, 0.8917424082756042]"
      ]
     },
     "execution_count": 16,
     "metadata": {},
     "output_type": "execute_result"
    }
   ],
   "source": [
    "validation_data_dir =\"/media/kashraf/Elements/Journal_2022/Datasets/topos_GAN+REAL/alpha/train_test/test\"\n",
    "model_path=\"/home/kashraf/Journal_work_Fall2021/modelling/real_gan_models/model_weights_april/alpha_April_V1.h5\"\n",
    "model=tensorflow.keras.models.load_model(model_path)\n",
    "\n",
    "validation_datagen = ImageDataGenerator()\n",
    "validation_generator = validation_datagen.flow_from_directory(\n",
    "    validation_data_dir,\n",
    "    target_size=(224, 224),\n",
    "    color_mode=\"rgb\",\n",
    "    batch_size=64,\n",
    "    class_mode='categorical',\n",
    "    shuffle=False)\n",
    "model.evaluate(validation_generator)\n"
   ]
  },
  {
   "cell_type": "code",
   "execution_count": null,
   "metadata": {},
   "outputs": [],
   "source": [
    "import tensorflow as tf\n",
    "tf.keras.models.load_model(\"/home/kashraf/Journal_work_Fall2021/modelling/real_gan_models/model_weights_Feb22/Beta_Feb22.h5\").summary()"
   ]
  },
  {
   "cell_type": "code",
   "execution_count": null,
   "metadata": {},
   "outputs": [],
   "source": [
    "np.save(\"beta_history.np\",result, allow_pickle=True)\n"
   ]
  },
  {
   "cell_type": "code",
   "execution_count": null,
   "metadata": {},
   "outputs": [],
   "source": [
    "import json\n",
    "\n",
    "# python dictionary with key value pairs\n",
    "\n",
    "# create json object from dictionary\n",
    "json = json.dumps(result)\n",
    "\n",
    "# open file for writing, \"w\" \n",
    "f = open(\"Stack_history.json\",\"w\")\n",
    "\n",
    "# write json object to file\n",
    "f.write(json)\n",
    "\n",
    "# close file\n",
    "f.close()"
   ]
  },
  {
   "cell_type": "code",
   "execution_count": null,
   "metadata": {},
   "outputs": [],
   "source": [
    "results_path=\"/home/kashraf/Journal_work_Fall2021/modelling/real_gan_models/thesis results and figures/\"\n",
    "history=result[\"history\"]\n",
    "\n",
    "print(history.keys())\n",
    "# Plotting our loss charts\n",
    "import matplotlib.pyplot as plt\n",
    "plt.style.use(\"ggplot\")\n",
    "plt.figure(figsize=(15,7))\n",
    "plt.xticks(fontsize=13,weight=\"bold\")\n",
    "plt.yticks(fontsize=13,weight=\"bold\")\n",
    "loss_values = history_dict['loss']\n",
    "val_loss_values = history_dict['val_loss']\n",
    "epochs = range(1, len(loss_values) + 1)\n",
    "\n",
    "line1 = plt.plot(epochs, val_loss_values, label='Validation/Test Loss')\n",
    "line2 = plt.plot(epochs, loss_values, label='Training Loss')\n",
    "plt.setp(line1, linewidth=3.0,marker = '+', markersize=10.0)\n",
    "plt.setp(line2, linewidth=3.0,marker = '4', markersize=10.0)\n",
    "plt.xlabel('Epochs',fontsize=20,weight=\"bold\") \n",
    "plt.ylabel('Loss',fontsize=20,weight=\"bold\")\n",
    "plt.grid(True)\n",
    "plt.xticks(fontsize=13,weight=\"bold\")\n",
    "plt.yticks(fontsize=13,weight=\"bold\")\n",
    "plt.legend(fontsize=15)\n",
    "plt.savefig(results_path+'Stack_Loss.png', dpi = 500)\n",
    "plt.show()\n"
   ]
  },
  {
   "cell_type": "code",
   "execution_count": 7,
   "metadata": {},
   "outputs": [
    {
     "ename": "NameError",
     "evalue": "name 'result' is not defined",
     "output_type": "error",
     "traceback": [
      "\u001b[0;31m---------------------------------------------------------------------------\u001b[0m",
      "\u001b[0;31mNameError\u001b[0m                                 Traceback (most recent call last)",
      "\u001b[0;32m<ipython-input-7-cb5131924383>\u001b[0m in \u001b[0;36m<module>\u001b[0;34m\u001b[0m\n\u001b[1;32m      1\u001b[0m \u001b[0mresults_path\u001b[0m\u001b[0;34m=\u001b[0m\u001b[0;34m\"/home/kashraf/Journal_work_Fall2021/modelling/real_gan_models/thesis results and figures/\"\u001b[0m\u001b[0;34m\u001b[0m\u001b[0;34m\u001b[0m\u001b[0m\n\u001b[0;32m----> 2\u001b[0;31m \u001b[0mhistory\u001b[0m\u001b[0;34m=\u001b[0m\u001b[0mresult\u001b[0m\u001b[0;34m[\u001b[0m\u001b[0;34m\"history\"\u001b[0m\u001b[0;34m]\u001b[0m\u001b[0;34m\u001b[0m\u001b[0;34m\u001b[0m\u001b[0m\n\u001b[0m\u001b[1;32m      3\u001b[0m \u001b[0;34m\u001b[0m\u001b[0m\n\u001b[1;32m      4\u001b[0m \u001b[0mprint\u001b[0m\u001b[0;34m(\u001b[0m\u001b[0mhistory\u001b[0m\u001b[0;34m.\u001b[0m\u001b[0mkeys\u001b[0m\u001b[0;34m(\u001b[0m\u001b[0;34m)\u001b[0m\u001b[0;34m)\u001b[0m\u001b[0;34m\u001b[0m\u001b[0;34m\u001b[0m\u001b[0m\n\u001b[1;32m      5\u001b[0m \u001b[0;31m# Plotting our loss charts\u001b[0m\u001b[0;34m\u001b[0m\u001b[0;34m\u001b[0m\u001b[0;34m\u001b[0m\u001b[0m\n",
      "\u001b[0;31mNameError\u001b[0m: name 'result' is not defined"
     ]
    }
   ],
   "source": [
    "results_path=\"/home/kashraf/Journal_work_Fall2021/modelling/real_gan_models/thesis results and figures/\"\n",
    "history=result[\"history\"]\n",
    "\n",
    "print(history.keys())\n",
    "# Plotting our loss charts\n",
    "import matplotlib.pyplot as plt\n",
    "plt.style.use(\"ggplot\")\n",
    "plt.figure(figsize=(15,7))\n",
    "plt.xticks(fontsize=13,weight=\"bold\")\n",
    "plt.yticks(fontsize=13,weight=\"bold\")\n",
    "acc_values = history_dict['accuracy']\n",
    "val_acc_values = history_dict['val_accuracy']\n",
    "epochs = range(1, len(loss_values) + 1)\n",
    "\n",
    "line1 = plt.plot(epochs, val_acc_values, label='Validation/Test Accuracy')\n",
    "line2 = plt.plot(epochs, acc_values , label='Training Accuracy')\n",
    "plt.setp(line1, linewidth=3.0,marker = '+', markersize=10.0)\n",
    "plt.setp(line2, linewidth=3.0,marker = '4', markersize=10.0)\n",
    "plt.xlabel('Epochs',fontsize=20,weight=\"bold\") \n",
    "plt.ylabel('Loss',fontsize=20,weight=\"bold\")\n",
    "plt.grid(True)\n",
    "plt.xticks(fontsize=13,weight=\"bold\")\n",
    "plt.yticks(fontsize=13,weight=\"bold\")\n",
    "plt.legend(fontsize=15)\n",
    "plt.savefig(results_path+'Stack_Accuracy.png', dpi = 500)\n",
    "plt.show()\n"
   ]
  },
  {
   "cell_type": "code",
   "execution_count": null,
   "metadata": {},
   "outputs": [],
   "source": [
    "import seaborn as sr\n",
    "import pandas as pd\n",
    "\n",
    "y_pred=np.argmax(model.predict(validation_generator), axis=1)\n",
    "y_test=validation_generator.classes\n",
    "\n",
    "\n",
    "# y_predict,distances1=  face_recognition(x_test_recog,T_distance)\n",
    "# accuracy=accuracy_score(y_test_recog,y_predict)\n",
    "class_names=[\"CL_1\",\"CL_2\",\"CL_3\",\"CL_4\"]\n",
    "report=classification_report(y_test,y_pred,target_names=class_names)\n",
    "\n",
    "conf=confusion_matrix(y_test,y_pred,normalize=\"true\")\n",
    "conf_df=pd.DataFrame(conf, index=class_names, columns=class_names)\n",
    "# print(\"\\nFace  accuracy =\",accuracy)\n"
   ]
  },
  {
   "cell_type": "code",
   "execution_count": null,
   "metadata": {},
   "outputs": [],
   "source": [
    "# print(\"\\n Classification report: \\n\",report)\n",
    "# fig=plt.figure(figsize=(15,10),)\n",
    "sr.heatmap(conf_df,annot=True,cmap=\"Blues\")\n",
    "# sr.fontsize()\n",
    "# sr.set(font_scale=0)\n",
    "# plt.title(\"Confusion matrix\")\n",
    "plt.savefig(results_path+\"Confusion matrix_beta.png\")\n",
    "# plt.xticks(fontsize=13,weight=\"bold\")\n",
    "# plt.yticks(fontsize=13,weight=\"bold\")\n",
    "plt.show()"
   ]
  }
 ],
 "metadata": {
  "kernelspec": {
   "display_name": "Python 3",
   "language": "python",
   "name": "python3"
  }
 },
 "nbformat": 4,
 "nbformat_minor": 2
}
