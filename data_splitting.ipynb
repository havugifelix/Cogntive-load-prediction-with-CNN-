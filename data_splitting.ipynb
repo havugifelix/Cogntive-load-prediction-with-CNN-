{
 "cells": [
  {
   "cell_type": "code",
   "execution_count": 30,
   "metadata": {},
   "outputs": [],
   "source": [
    "from shutil import copy2\n",
    "from sklearn.model_selection import train_test_split\n",
    "import os\n",
    "import numpy as np\n",
    "from tqdm import tqdm"
   ]
  },
  {
   "cell_type": "code",
   "execution_count": 31,
   "metadata": {},
   "outputs": [],
   "source": [
    "data_path=      \"/home/kashraf/Journal_work_Fall2021/GAN_topomap/topos_GAN+REAL/theta/full/\"\n",
    "dest_train_path= \"/home/kashraf/Journal_work_Fall2021/GAN_topomap/topos_GAN+REAL/theta/train_test/train/\"\n",
    "dest_test_path= \"/home/kashraf/Journal_work_Fall2021/GAN_topomap/topos_GAN+REAL/theta/train_test/test/\""
   ]
  },
  {
   "cell_type": "code",
   "execution_count": 32,
   "metadata": {},
   "outputs": [],
   "source": [
    "def split(data_path,train_path,test_path,cl_level):\n",
    "    fnames=os.listdir(data_path+cl_level)\n",
    "    f_train,f_test,yt,yes=train_test_split(fnames,range(len(fnames)),test_size=0.3)\n",
    "    \n",
    "    for file in tqdm(f_train):\n",
    "        copy2(data_path+cl_level+\"/\"+file,train_path+cl_level)\n",
    "    for file in tqdm(f_test):\n",
    "        copy2(data_path+cl_level+\"/\"+file,test_path+cl_level+\"/\")"
   ]
  },
  {
   "cell_type": "code",
   "execution_count": 34,
   "metadata": {},
   "outputs": [
    {
     "name": "stderr",
     "output_type": "stream",
     "text": [
      "100%|██████████| 7700/7700 [00:00<00:00, 12299.92it/s]\n",
      "100%|██████████| 3300/3300 [00:00<00:00, 12933.08it/s]\n",
      "100%|██████████| 7700/7700 [00:00<00:00, 12426.43it/s]\n",
      "100%|██████████| 3300/3300 [00:00<00:00, 12927.30it/s]\n",
      "100%|██████████| 7700/7700 [00:00<00:00, 12993.93it/s]\n",
      "100%|██████████| 3300/3300 [00:00<00:00, 12931.75it/s]\n",
      "100%|██████████| 7700/7700 [00:00<00:00, 12852.98it/s]\n",
      "100%|██████████| 3300/3300 [00:00<00:00, 12865.17it/s]\n"
     ]
    }
   ],
   "source": [
    "split(data_path,dest_train_path,dest_test_path,\"cl2\")\n",
    "split(data_path,dest_train_path,dest_test_path,\"cl4\")\n",
    "split(data_path,dest_train_path,dest_test_path,\"cl6\")\n",
    "split(data_path,dest_train_path,dest_test_path,\"cl8\")"
   ]
  }
 ],
 "metadata": {
  "kernelspec": {
   "display_name": "Python 3",
   "language": "python",
   "name": "python3"
  },
  "language_info": {
   "codemirror_mode": {
    "name": "ipython",
    "version": 3
   },
   "file_extension": ".py",
   "mimetype": "text/x-python",
   "name": "python",
   "nbconvert_exporter": "python",
   "pygments_lexer": "ipython3",
   "version": "3.7.7"
  }
 },
 "nbformat": 4,
 "nbformat_minor": 2
}
